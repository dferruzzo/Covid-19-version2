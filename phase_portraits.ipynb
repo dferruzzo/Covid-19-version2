{
 "cells": [
  {
   "cell_type": "markdown",
   "id": "8225d52d-8d8a-447e-936b-4e922123f07f",
   "metadata": {
    "tags": []
   },
   "source": [
    "# Phase portraits and forced periodic solutions\n",
    "March 18th, 2023\n",
    "Scritp to test some pjase portraits and forced periodic solutions"
   ]
  },
  {
   "cell_type": "code",
   "execution_count": 1,
   "id": "05f00aa5-99bd-4a45-82bf-d6586920216b",
   "metadata": {},
   "outputs": [],
   "source": [
    "# loading libraries\n",
    "from loaddata import *\n",
    "from fit_isol import *\n",
    "from fitting import *\n",
    "from validation import *\n",
    "from save_all import *\n",
    "from load_all import *\n",
    "from omega_gamma import *\n",
    "import pandas as pd\n",
    "from tkinter import W\n",
    "import matplotlib.pyplot as plt\n",
    "import matplotlib.dates as mdates\n",
    "from numpy import array\n",
    "from myfunctions import rhs_vac, rk4, theta_func, rhs_vac_theta, theta_func_1\n",
    "from numpy import polynomial, trapz, meshgrid, linspace, array2string, zeros\n",
    "import time\n",
    "import random"
   ]
  },
  {
   "cell_type": "code",
   "execution_count": 2,
   "id": "036b41d0-c0c8-4448-b803-029265f1f8cc",
   "metadata": {
    "tags": []
   },
   "outputs": [
    {
     "name": "stdout",
     "output_type": "stream",
     "text": [
      "Loading data...\n",
      "Data loaded...OK!\n",
      "\n",
      "Loading data from file: data_iso-2023-03-06-19-38-55.csv\n",
      "\n",
      "Loading data from file: data_dyn-2023-03-06-19-38-55.csv\n",
      "\n",
      "Data loaded successfully...OK!\n",
      "\n"
     ]
    }
   ],
   "source": [
    "dados_para_fit, dados_para_val = loaddata()\n",
    "\n",
    "# load previously saved data from file\n",
    "csv1 = 'data_iso-2023-03-06-19-38-55.csv'\n",
    "csv2 = 'data_dyn-2023-03-06-19-38-55.csv'\n",
    "\n",
    "dados_fit_isol_saved, dados_fit_din_saved = load_all(csv1, csv2)\n",
    "\n",
    "dados_din = dados_fit_din_saved\n",
    "dados_iso = dados_fit_isol_saved\n",
    "\n",
    "mu = float(dados_din.loc['mu']['Valor'])\n",
    "gamma = float(dados_din.loc['gamma']['Valor'])\n",
    "alpha = float(dados_din.loc['alpha']['Valor'])\n",
    "beta1 = float(dados_din.loc['beta1']['Valor'])\n",
    "beta2 = float(dados_din.loc['beta2']['Valor'])\n",
    "beta3 = float(dados_din.loc['beta3']['Valor'])\n",
    "omega = 0.005\n",
    "# with omega>=0.005 there is and theta oscillanting there is a limit cicle\n",
    "i0 = float(dados_din.loc['i0']['Valor'])\n",
    "s0 = float(dados_din.loc['s0']['Valor'])\n",
    "sick0 = float(dados_din.loc['sick0']['Valor'])\n",
    "#\n",
    "theta0 = float(dados_iso.loc['theta0']['Valor'])\n",
    "theta1 = float(dados_iso.loc['theta1']['Valor'])\n",
    "theta_coef = polynomial.Polynomial([theta0, theta1])\n",
    "#\n",
    "tot_pop = tot_pop = dados_para_val['Pop'].to_numpy()[0]"
   ]
  },
  {
   "cell_type": "markdown",
   "id": "a9092091-c632-40dc-85d7-e77a9f3d4ffe",
   "metadata": {},
   "source": [
    "## The periodic orbit"
   ]
  },
  {
   "cell_type": "code",
   "execution_count": 31,
   "id": "c41d29db-0794-4851-8c3e-14487651d888",
   "metadata": {
    "tags": []
   },
   "outputs": [
    {
     "name": "stderr",
     "output_type": "stream",
     "text": [
      "/tmp/ipykernel_465/2084126701.py:28: DeprecationWarning: non-integer arguments to randrange() have been deprecated since Python 3.10 and will be removed in a subsequent version\n",
      "  s0 = random.randrange(s0_min*1000, s0_max*1000, 1)/1000 # 0.6 -> 1.0\n",
      "/tmp/ipykernel_465/2084126701.py:29: DeprecationWarning: non-integer arguments to randrange() have been deprecated since Python 3.10 and will be removed in a subsequent version\n",
      "  sick0 = random.randrange(sick0_min*10000, sick0_max*10000, 1)/10000 # 0.001 -> 0.009\n"
     ]
    },
    {
     "name": "stdout",
     "output_type": "stream",
     "text": [
      "Done\n"
     ]
    }
   ],
   "source": [
    "# note:\n",
    "# 1 = s(t)+i(t)+sick(t)+r(t),\n",
    "# at IC\n",
    "# 1 = s0+i0+sick0, because r(0)=0\n",
    "# and from the fitting we got,\n",
    "# i0 = 1.46 x sick0\n",
    "\n",
    "t0 = 0\n",
    "tf = 20000\n",
    "h = 1\n",
    "\n",
    "N = 50 # number of randon interactions\n",
    "sols = zeros([N,tf+1,3])\n",
    "\n",
    "s0_max = 0.80\n",
    "s0_min = 0.70\n",
    "sick0_min = 1e-3\n",
    "sick0_max = 9e-3\n",
    "\n",
    "for k in range(N):\n",
    "    s0 = random.randrange(s0_min*1000, s0_max*1000, 1)/1000 # 0.6 -> 1.0\n",
    "    sick0 = random.randrange(sick0_min*10000, sick0_max*10000, 1)/10000 # 0.001 -> 0.009\n",
    "    i0 = 1.4621370898415689*sick0\n",
    "    x0 = array([s0, i0, sick0])\n",
    "    # The function rhs_vac_theta function uses a periorid sinal for theta\n",
    "    t, sols[k,:,:] = rk4(lambda t, x: rhs_vac_theta(t, x, mu, gamma,\\\n",
    "                                        alpha, theta_coef,\\\n",
    "                                        beta1, beta2, beta3,\\\n",
    "                                        omega), x0, t0, tf, h)\n",
    "print('Done')"
   ]
  },
  {
   "cell_type": "code",
   "execution_count": 39,
   "id": "946b7ba6-9c28-4868-8d63-b8efa228384c",
   "metadata": {
    "tags": []
   },
   "outputs": [
    {
     "data": {
      "image/png": "[encoded data removed]",
      "text/plain": [
       "<Figure size 640x480 with 2 Axes>"
      ]
     },
     "metadata": {},
     "output_type": "display_data"
    }
   ],
   "source": [
    "save_figs = True\n",
    "#\n",
    "t1 = 800;\n",
    "t2 = -1;\n",
    "#\n",
    "fig, axes = plt.subplots(1,2, sharey=True)\n",
    "for k in range(N):\n",
    "    axes[0].plot(sols[k,t1:t2,2], sols[k,t1:t2,0], color='tab:blue')\n",
    "    axes[0].plot(sols[k,0,2], sols[k,0,0],'o', color='tab:orange')\n",
    "    #\n",
    "    axes[1].plot(sols[k,t1:t2,1], sols[k,t1:t2,0], color='tab:blue')\n",
    "    axes[1].plot(sols[k,0,1], sols[k,0,0],'o', color='tab:orange')\n",
    "#\n",
    "axes[0].set_xlabel('$s_{ick}(t)$')\n",
    "axes[0].set_ylabel('$s(t)$')\n",
    "axes[0].grid()\n",
    "axes[1].set_xlabel('$i(t)$')\n",
    "axes[1].grid()\n",
    "#\n",
    "if save_figs:\n",
    "    timestr = time.strftime(\"%Y-%m-%d-%H-%M-%S\")\n",
    "    filename = 'figures/phase_portrait_'+timestr+'.eps'\n",
    "    plt.savefig(filename, format='eps', bbox_inches='tight')\n",
    "#\n",
    "plt.show()"
   ]
  },
  {
   "cell_type": "markdown",
   "id": "b1610cec-83a9-4be6-87cc-875016445191",
   "metadata": {},
   "source": [
    "## The phase portrait\n",
    "The phase portrait depends on time, so it is not possible to show the periodic orbit in just one plot."
   ]
  },
  {
   "cell_type": "code",
   "execution_count": null,
   "id": "dffa7e5b-afff-4b2d-a08d-46d633eb4853",
   "metadata": {
    "tags": []
   },
   "outputs": [],
   "source": [
    "# Function to define the gradient in (sick x s) coordinates\n",
    "# in normalized population\n",
    "def grad_rhs(tg, sick_0, s_0):\n",
    "    # with normalized population\n",
    "    i_0 = 1-s_0-sick_0\n",
    "    x_0 = array([s_0, i_0, sick_0])\n",
    "    ret = rhs_vac_theta(tg, x_0, mu, gamma,\\\n",
    "              alpha, theta_coef,\\\n",
    "              beta1, beta2, beta3,\\\n",
    "              omega)\n",
    "    # return [sick(t), s(t)]\n",
    "    return ret[1], ret[0]\n",
    "# Phase portrait\n",
    "t_sample = 14000 # change the sample time to take and screenshot at that time\n",
    "sickXX = linspace(0.0,0.02,20) # normalized population\n",
    "sYY = linspace(0.7,0.9,20)     # normalized population\n",
    "X, Y = meshgrid(sickXX,sYY)    # normalized population\n",
    "dsick, ds = grad_rhs(t_sample, X, Y)      # normalized population\n",
    "# \n",
    "plt.quiver(sickXX*tot_pop, sYY*tot_pop, dsick*tot_pop, ds*tot_pop)\n",
    "plt.xlabel('$S_{ick}$')\n",
    "plt.ylabel('$S(t)$')\n",
    "plt.show()"
   ]
  }
 ],
 "metadata": {
  "kernelspec": {
   "display_name": "Python 3 (ipykernel)",
   "language": "python",
   "name": "python3"
  },
  "language_info": {
   "codemirror_mode": {
    "name": "ipython",
    "version": 3
   },
   "file_extension": ".py",
   "mimetype": "text/x-python",
   "name": "python",
   "nbconvert_exporter": "python",
   "pygments_lexer": "ipython3",
   "version": "3.10.4"
  }
 },
 "nbformat": 4,
 "nbformat_minor": 5
}
